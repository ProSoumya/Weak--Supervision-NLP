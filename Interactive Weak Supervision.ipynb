{
 "cells": [
  {
   "cell_type": "markdown",
   "id": "94801288",
   "metadata": {},
   "source": [
    "## Interactive Weak Supervision for NLP"
   ]
  },
  {
   "cell_type": "markdown",
   "id": "a9976626",
   "metadata": {},
   "source": [
    "### Lesson 1:"
   ]
  },
  {
   "cell_type": "markdown",
   "id": "e30e1888",
   "metadata": {},
   "source": [
    "**What is weak Supervision**"
   ]
  },
  {
   "cell_type": "markdown",
   "id": "a6817f5e",
   "metadata": {},
   "source": [
    "Noisy Sources are used  to provide supervisions  for labeling large amount of training data "
   ]
  },
  {
   "cell_type": "markdown",
   "id": "5dbd343b",
   "metadata": {},
   "source": [
    "**Why Not Hand Labeling?**"
   ]
  },
  {
   "cell_type": "markdown",
   "id": "056f4475",
   "metadata": {},
   "source": [
    "Expensive ,time consuming and can sometimes be cost prohibitive if SME(Subject Matter Expert) are ncesessary in the labeling process (i.e : doctors in medical contexts)"
   ]
  },
  {
   "cell_type": "markdown",
   "id": "85c3ddae",
   "metadata": {},
   "source": [
    "**Why not active leanring?Why not synthetic data?**"
   ]
  },
  {
   "cell_type": "markdown",
   "id": "fb60867b",
   "metadata": {},
   "source": [
    "Active learning and synthetic data generation are both useful techniques. There is no one-size-fits-all ML techniques to solve all labeling problems \n",
    "Weak Supervision is useful when domain experties can be discretely encoded and used to bosstrap the labeling process"
   ]
  },
  {
   "cell_type": "markdown",
   "id": "c481c0c5",
   "metadata": {},
   "source": [
    "3 key figures that a data scientist or subject matter experts(SME) can leverage in order to gauge the performance of probabilistic models and use the performance as encoded by the figures to iterate on the model\n",
    "\n",
    "\n",
    "**Base rate distribution** \n",
    "<br>\n",
    "**Probabilistic confusion index**\n",
    "<br>\n",
    "**Label prediction Index**"
   ]
  },
  {
   "cell_type": "markdown",
   "id": "5fc85b10",
   "metadata": {},
   "source": [
    "The first step is to hand label a small sample of data. The data we'll be working with here is the medical transcription dataset from kaggel and the task is to predict whether any transciption involved surgery, as given by \"medical speciality\" column.We will use this column to hand label sveral rows, for pedagogical purpose,but this will usually be an SME looking through the transcription to label the rows. Let's Jump in and have a look at our data "
   ]
  },
  {
   "cell_type": "code",
   "execution_count": 31,
   "id": "c117d70e",
   "metadata": {},
   "outputs": [
    {
     "data": {
      "text/html": [
       "<div>\n",
       "<style scoped>\n",
       "    .dataframe tbody tr th:only-of-type {\n",
       "        vertical-align: middle;\n",
       "    }\n",
       "\n",
       "    .dataframe tbody tr th {\n",
       "        vertical-align: top;\n",
       "    }\n",
       "\n",
       "    .dataframe thead th {\n",
       "        text-align: right;\n",
       "    }\n",
       "</style>\n",
       "<table border=\"1\" class=\"dataframe\">\n",
       "  <thead>\n",
       "    <tr style=\"text-align: right;\">\n",
       "      <th></th>\n",
       "      <th>Unnamed: 0</th>\n",
       "      <th>description</th>\n",
       "      <th>medical_specialty</th>\n",
       "      <th>sample_name</th>\n",
       "      <th>transcription</th>\n",
       "      <th>keywords</th>\n",
       "    </tr>\n",
       "  </thead>\n",
       "  <tbody>\n",
       "    <tr>\n",
       "      <th>0</th>\n",
       "      <td>0</td>\n",
       "      <td>A 23-year-old white female presents with comp...</td>\n",
       "      <td>Allergy / Immunology</td>\n",
       "      <td>Allergic Rhinitis</td>\n",
       "      <td>SUBJECTIVE:,  This 23-year-old white female pr...</td>\n",
       "      <td>allergy / immunology, allergic rhinitis, aller...</td>\n",
       "    </tr>\n",
       "    <tr>\n",
       "      <th>1</th>\n",
       "      <td>1</td>\n",
       "      <td>Consult for laparoscopic gastric bypass.</td>\n",
       "      <td>Bariatrics</td>\n",
       "      <td>Laparoscopic Gastric Bypass Consult - 2</td>\n",
       "      <td>PAST MEDICAL HISTORY:, He has difficulty climb...</td>\n",
       "      <td>bariatrics, laparoscopic gastric bypass, weigh...</td>\n",
       "    </tr>\n",
       "    <tr>\n",
       "      <th>2</th>\n",
       "      <td>2</td>\n",
       "      <td>Consult for laparoscopic gastric bypass.</td>\n",
       "      <td>Bariatrics</td>\n",
       "      <td>Laparoscopic Gastric Bypass Consult - 1</td>\n",
       "      <td>HISTORY OF PRESENT ILLNESS: , I have seen ABC ...</td>\n",
       "      <td>bariatrics, laparoscopic gastric bypass, heart...</td>\n",
       "    </tr>\n",
       "    <tr>\n",
       "      <th>3</th>\n",
       "      <td>3</td>\n",
       "      <td>2-D M-Mode. Doppler.</td>\n",
       "      <td>Cardiovascular / Pulmonary</td>\n",
       "      <td>2-D Echocardiogram - 1</td>\n",
       "      <td>2-D M-MODE: , ,1.  Left atrial enlargement wit...</td>\n",
       "      <td>cardiovascular / pulmonary, 2-d m-mode, dopple...</td>\n",
       "    </tr>\n",
       "    <tr>\n",
       "      <th>4</th>\n",
       "      <td>4</td>\n",
       "      <td>2-D Echocardiogram</td>\n",
       "      <td>Cardiovascular / Pulmonary</td>\n",
       "      <td>2-D Echocardiogram - 2</td>\n",
       "      <td>1.  The left ventricular cavity size and wall ...</td>\n",
       "      <td>cardiovascular / pulmonary, 2-d, doppler, echo...</td>\n",
       "    </tr>\n",
       "  </tbody>\n",
       "</table>\n",
       "</div>"
      ],
      "text/plain": [
       "   Unnamed: 0                                        description  \\\n",
       "0           0   A 23-year-old white female presents with comp...   \n",
       "1           1           Consult for laparoscopic gastric bypass.   \n",
       "2           2           Consult for laparoscopic gastric bypass.   \n",
       "3           3                             2-D M-Mode. Doppler.     \n",
       "4           4                                 2-D Echocardiogram   \n",
       "\n",
       "             medical_specialty                                sample_name  \\\n",
       "0         Allergy / Immunology                         Allergic Rhinitis    \n",
       "1                   Bariatrics   Laparoscopic Gastric Bypass Consult - 2    \n",
       "2                   Bariatrics   Laparoscopic Gastric Bypass Consult - 1    \n",
       "3   Cardiovascular / Pulmonary                    2-D Echocardiogram - 1    \n",
       "4   Cardiovascular / Pulmonary                    2-D Echocardiogram - 2    \n",
       "\n",
       "                                       transcription  \\\n",
       "0  SUBJECTIVE:,  This 23-year-old white female pr...   \n",
       "1  PAST MEDICAL HISTORY:, He has difficulty climb...   \n",
       "2  HISTORY OF PRESENT ILLNESS: , I have seen ABC ...   \n",
       "3  2-D M-MODE: , ,1.  Left atrial enlargement wit...   \n",
       "4  1.  The left ventricular cavity size and wall ...   \n",
       "\n",
       "                                            keywords  \n",
       "0  allergy / immunology, allergic rhinitis, aller...  \n",
       "1  bariatrics, laparoscopic gastric bypass, weigh...  \n",
       "2  bariatrics, laparoscopic gastric bypass, heart...  \n",
       "3  cardiovascular / pulmonary, 2-d m-mode, dopple...  \n",
       "4  cardiovascular / pulmonary, 2-d, doppler, echo...  "
      ]
     },
     "execution_count": 31,
     "metadata": {},
     "output_type": "execute_result"
    }
   ],
   "source": [
    "import pandas as pd\n",
    "import numpy as np\n",
    "import matplotlib.pyplot as plt\n",
    "import seaborn as sns \n",
    "import warnings\n",
    "warnings.filterwarnings(\"ignore\")\n",
    "sns.set()\n",
    "df = pd.read_csv(r\"C:\\Users\\soumy\\ML_Projects\\CSV_FILES\\mtsamples.csv\\mtsamples.csv\")\n",
    "df.head()"
   ]
  },
  {
   "cell_type": "markdown",
   "id": "3db6d00d",
   "metadata": {},
   "source": [
    "Base rate distribution -> How often  the class A is  appear from the whole data "
   ]
  },
  {
   "cell_type": "markdown",
   "id": "41e3463e",
   "metadata": {},
   "source": [
    "Probabilistic confusion index -> This is an confustion matrix used when target label is multiclass rather than just binary"
   ]
  },
  {
   "cell_type": "markdown",
   "id": "6f2932d1",
   "metadata": {},
   "source": [
    "Label prediction Index -> The distribution of labels througout the dataset"
   ]
  },
  {
   "cell_type": "code",
   "execution_count": 32,
   "id": "aa981dca",
   "metadata": {},
   "outputs": [
    {
     "data": {
      "text/plain": [
       "Index(['Unnamed: 0', 'description', 'medical_specialty', 'sample_name',\n",
       "       'transcription', 'keywords'],\n",
       "      dtype='object')"
      ]
     },
     "execution_count": 32,
     "metadata": {},
     "output_type": "execute_result"
    }
   ],
   "source": [
    "df.columns"
   ]
  },
  {
   "cell_type": "code",
   "execution_count": 33,
   "id": "73558568",
   "metadata": {},
   "outputs": [
    {
     "data": {
      "text/html": [
       "<div>\n",
       "<style scoped>\n",
       "    .dataframe tbody tr th:only-of-type {\n",
       "        vertical-align: middle;\n",
       "    }\n",
       "\n",
       "    .dataframe tbody tr th {\n",
       "        vertical-align: top;\n",
       "    }\n",
       "\n",
       "    .dataframe thead th {\n",
       "        text-align: right;\n",
       "    }\n",
       "</style>\n",
       "<table border=\"1\" class=\"dataframe\">\n",
       "  <thead>\n",
       "    <tr style=\"text-align: right;\">\n",
       "      <th></th>\n",
       "      <th>index</th>\n",
       "      <th>Unnamed: 0</th>\n",
       "      <th>description</th>\n",
       "      <th>medical_specialty</th>\n",
       "      <th>sample_name</th>\n",
       "      <th>transcription</th>\n",
       "      <th>keywords</th>\n",
       "      <th>label</th>\n",
       "    </tr>\n",
       "  </thead>\n",
       "  <tbody>\n",
       "    <tr>\n",
       "      <th>0</th>\n",
       "      <td>84</td>\n",
       "      <td>84</td>\n",
       "      <td>An example/template for meatotomy.</td>\n",
       "      <td>Urology</td>\n",
       "      <td>Meatotomy Template</td>\n",
       "      <td>OPERATIVE NOTE:  ,The patient was taken to the...</td>\n",
       "      <td>urology, urethral meatus, mosquito hemostat, m...</td>\n",
       "      <td>0</td>\n",
       "    </tr>\n",
       "    <tr>\n",
       "      <th>1</th>\n",
       "      <td>2470</td>\n",
       "      <td>2470</td>\n",
       "      <td>Normal physical exam template.  Normal appear...</td>\n",
       "      <td>Office Notes</td>\n",
       "      <td>Normal Physical Exam Template - 6</td>\n",
       "      <td>VITAL SIGNS:,  Reveal a blood pressure of *, t...</td>\n",
       "      <td>office notes, jugular venous distention, flank...</td>\n",
       "      <td>0</td>\n",
       "    </tr>\n",
       "    <tr>\n",
       "      <th>2</th>\n",
       "      <td>2804</td>\n",
       "      <td>2804</td>\n",
       "      <td>Neurologic consultation was requested to asse...</td>\n",
       "      <td>Neurology</td>\n",
       "      <td>Neurologic Consultation - 3</td>\n",
       "      <td>HISTORY: , Neurologic consultation was request...</td>\n",
       "      <td>neurology, eye blinking, status epilepticus, s...</td>\n",
       "      <td>0</td>\n",
       "    </tr>\n",
       "    <tr>\n",
       "      <th>3</th>\n",
       "      <td>4987</td>\n",
       "      <td>4987</td>\n",
       "      <td>Multiple sharp force injuries, involving ches...</td>\n",
       "      <td>Autopsy</td>\n",
       "      <td>Autopsy - 6</td>\n",
       "      <td>ANATOMICAL SUMMARY,1. Sharp force wound of nec...</td>\n",
       "      <td>NaN</td>\n",
       "      <td>0</td>\n",
       "    </tr>\n",
       "    <tr>\n",
       "      <th>4</th>\n",
       "      <td>4924</td>\n",
       "      <td>4924</td>\n",
       "      <td>The patient with atypical type right arm disc...</td>\n",
       "      <td>Cardiovascular / Pulmonary</td>\n",
       "      <td>Cardiac Catheterization - 2</td>\n",
       "      <td>INDICATIONS FOR PROCEDURE:, The patient has pr...</td>\n",
       "      <td>cardiovascular / pulmonary, discomfort, subcla...</td>\n",
       "      <td>0</td>\n",
       "    </tr>\n",
       "  </tbody>\n",
       "</table>\n",
       "</div>"
      ],
      "text/plain": [
       "   index  Unnamed: 0                                        description  \\\n",
       "0     84          84                 An example/template for meatotomy.   \n",
       "1   2470        2470   Normal physical exam template.  Normal appear...   \n",
       "2   2804        2804   Neurologic consultation was requested to asse...   \n",
       "3   4987        4987   Multiple sharp force injuries, involving ches...   \n",
       "4   4924        4924   The patient with atypical type right arm disc...   \n",
       "\n",
       "             medical_specialty                          sample_name  \\\n",
       "0                      Urology                  Meatotomy Template    \n",
       "1                 Office Notes   Normal Physical Exam Template - 6    \n",
       "2                    Neurology         Neurologic Consultation - 3    \n",
       "3                      Autopsy                         Autopsy - 6    \n",
       "4   Cardiovascular / Pulmonary         Cardiac Catheterization - 2    \n",
       "\n",
       "                                       transcription  \\\n",
       "0  OPERATIVE NOTE:  ,The patient was taken to the...   \n",
       "1  VITAL SIGNS:,  Reveal a blood pressure of *, t...   \n",
       "2  HISTORY: , Neurologic consultation was request...   \n",
       "3  ANATOMICAL SUMMARY,1. Sharp force wound of nec...   \n",
       "4  INDICATIONS FOR PROCEDURE:, The patient has pr...   \n",
       "\n",
       "                                            keywords  label  \n",
       "0  urology, urethral meatus, mosquito hemostat, m...      0  \n",
       "1  office notes, jugular venous distention, flank...      0  \n",
       "2  neurology, eye blinking, status epilepticus, s...      0  \n",
       "3                                                NaN      0  \n",
       "4  cardiovascular / pulmonary, discomfort, subcla...      0  "
      ]
     },
     "execution_count": 33,
     "metadata": {},
     "output_type": "execute_result"
    }
   ],
   "source": [
    "#hand label some rows\n",
    "N= 250\n",
    "df = df.sample(frac=1,random_state=42).reset_index()\n",
    "df_labeled = df.iloc[:N]\n",
    "df_unlabeled = df.iloc[N:]\n",
    "df_labeled['label'] = (df_labeled[\"medical_specialty\"].str.contains('Surgery') == 1).astype(int)\n",
    "df_unlabeled['label'] = None\n",
    "df_labeled.head()"
   ]
  },
  {
   "cell_type": "code",
   "execution_count": 34,
   "id": "a8e1a6cf",
   "metadata": {},
   "outputs": [
    {
     "data": {
      "text/plain": [
       "'Base Rate = 0.24'"
      ]
     },
     "execution_count": 34,
     "metadata": {},
     "output_type": "execute_result"
    }
   ],
   "source": [
    "#Base Rate Calulation\n",
    "base_rate = sum(df_labeled['label'])/len(df_labeled['label'])\n",
    "f\"Base Rate = {base_rate}\""
   ]
  },
  {
   "cell_type": "markdown",
   "id": "1f60f2ec",
   "metadata": {},
   "source": [
    "## LESSON 2 : Probalistic Weak Level Evaluation"
   ]
  },
  {
   "cell_type": "markdown",
   "id": "3e7886fb",
   "metadata": {},
   "source": [
    "### The Base Rate distribution"
   ]
  },
  {
   "cell_type": "markdown",
   "id": "ffbb0107",
   "metadata": {},
   "source": [
    "Base Rate Distribution : What do you mean by \"distribution\" here, given that we have an actual base rate?\n",
    "Well,one way to think about it is that we have calculated the base rate from a sample of data.This means that we don't know the\n",
    "exact base rate and our uncertainly around it can be chracterized by a distribution.One way to formulate this uncertainly is using Bayesian Technique and,essentially,our knowledge about the base rate is encoded by the posterior distribution.You don't need to know  too much about the  Baysian methiods to get the gist of it but if you would like to know more, then we you can check out some introductry material here. "
   ]
  },
  {
   "cell_type": "code",
   "execution_count": 5,
   "id": "67d19126",
   "metadata": {},
   "outputs": [],
   "source": [
    "# Plot for Base Rate Distribution and the distinrution of labed data above\n",
    "def plot_posterior(df,xlabel,ylabel):\n",
    "    N= len(df)\n",
    "    #Flip coins\n",
    "    n_successess = df.label.sum()\n",
    "    \n",
    "    #X-axis for PDF\n",
    "    x= np.linspace(0,1,100)\n",
    "    \n",
    "    #Write one equation for uniform prior\n",
    "    prior = np.ones(len(x))\n",
    "    \n",
    "    #write one euqation for posterior, whihc is likelyhood* prior\n",
    "    posterior =  (x**n_successess) * ((1-x)**(N-n_successess)) * prior\n",
    "    \n",
    "    \n",
    "    #pseudo-normalize the posterior so that we can compaire them in the same scale\n",
    "    posterior /= np.max(posterior)\n",
    "    \n",
    "    \n",
    "    #plor posterier\n",
    "    plt.plot(x,posterior)\n",
    "    plt.xlabel(xlabel)\n",
    "    plt.ylabel(ylabel)\n",
    "    plt.show()\n",
    "    \n",
    "    \n",
    "    \n",
    "    "
   ]
  },
  {
   "cell_type": "code",
   "execution_count": 6,
   "id": "c3443b5c",
   "metadata": {},
   "outputs": [
    {
     "data": {
      "image/png": "[encoded data removed]",
      "text/plain": [
       "<Figure size 432x288 with 1 Axes>"
      ]
     },
     "metadata": {
      "needs_background": "light"
     },
     "output_type": "display_data"
    }
   ],
   "source": [
    "#plot the base label distribution\n",
    "plot_posterior(df_labeled, \"Base_Rate\",\"Scaled_Probability\")"
   ]
  },
  {
   "cell_type": "code",
   "execution_count": 7,
   "id": "3dcf677b",
   "metadata": {},
   "outputs": [],
   "source": [
    "def plot_posterior_flip(p=0.6,N=0):\n",
    "    np.random.seed(42)\n",
    "    n_successess = np.random.binomial(N,p)\n",
    "    x = np.linspace(0,1,100)\n",
    "    prior =1\n",
    "    posterior = x**n_successess *(1-x) ** (N-n_successess) * prior\n",
    "    posterior /= np.max(posterior)\n",
    "    plt.plot(x,posterior)\n",
    "    plt.xlabel('p')\n",
    "    plt.ylabel('N')"
   ]
  },
  {
   "cell_type": "code",
   "execution_count": 8,
   "id": "e01f803d",
   "metadata": {},
   "outputs": [
    {
     "data": {
      "application/vnd.jupyter.widget-view+json": {
       "model_id": "b9b8bea7a5474e14ba0da2aae3c8517a",
       "version_major": 2,
       "version_minor": 0
      },
      "text/plain": [
       "interactive(children=(FloatSlider(value=0.6, description='p', max=1.0, step=0.01), IntSlider(value=0, descript…"
      ]
     },
     "metadata": {},
     "output_type": "display_data"
    }
   ],
   "source": [
    "from ipywidgets import widgets\n",
    "widgets.interact(plot_posterior_flip, p =(0, 1, 0.01), N =(0, 1500));"
   ]
  },
  {
   "cell_type": "markdown",
   "id": "ee31841e",
   "metadata": {},
   "source": [
    "## Programmatic Labeling with Domain Hinter"
   ]
  },
  {
   "cell_type": "code",
   "execution_count": 9,
   "id": "a068dcdc",
   "metadata": {},
   "outputs": [],
   "source": [
    "# Search for  word \"ANESTHESIA\"\n",
    "df1 = pd.concat([df_labeled,df_unlabeled])\n"
   ]
  },
  {
   "cell_type": "code",
   "execution_count": 10,
   "id": "5e346bb0",
   "metadata": {},
   "outputs": [
    {
     "data": {
      "text/plain": [
       "(4999, 8)"
      ]
     },
     "execution_count": 10,
     "metadata": {},
     "output_type": "execute_result"
    }
   ],
   "source": [
    "df1.shape"
   ]
  },
  {
   "cell_type": "code",
   "execution_count": 11,
   "id": "9459b245",
   "metadata": {},
   "outputs": [
    {
     "data": {
      "text/plain": [
       "1319"
      ]
     },
     "execution_count": 11,
     "metadata": {},
     "output_type": "execute_result"
    }
   ],
   "source": [
    "df1['transcription'].str.contains('ANESTHESIA').sum()"
   ]
  },
  {
   "cell_type": "code",
   "execution_count": 12,
   "id": "5adca430",
   "metadata": {},
   "outputs": [
    {
     "data": {
      "text/plain": [
       "0.240    3647\n",
       "0.595    1352\n",
       "Name: P1, dtype: int64"
      ]
     },
     "execution_count": 12,
     "metadata": {},
     "output_type": "execute_result"
    }
   ],
   "source": [
    "#creat columns to encode hinter result\n",
    "df1['h1'] = df1['transcription'].str.contains('ANESTHESIA')\n",
    "\n",
    "\n",
    "W = 0.95\n",
    "L= []\n",
    "for index,row in df1.iterrows():\n",
    "    if df1.iloc[index]['h1']:\n",
    "        P1 = (base_rate + W)/2\n",
    "        L.append(P1)\n",
    "    else:\n",
    "        P1 = base_rate\n",
    "        L.append(P1)\n",
    "df1['P1'] = L\n",
    "\n",
    "df1.P1.value_counts()"
   ]
  },
  {
   "cell_type": "code",
   "execution_count": 13,
   "id": "606469bd",
   "metadata": {},
   "outputs": [
    {
     "ename": "SyntaxError",
     "evalue": "invalid syntax (Temp/ipykernel_19652/2619761596.py, line 1)",
     "output_type": "error",
     "traceback": [
      "\u001b[1;36m  File \u001b[1;32m\"C:\\Users\\soumy\\AppData\\Local\\Temp/ipykernel_19652/2619761596.py\"\u001b[1;36m, line \u001b[1;32m1\u001b[0m\n\u001b[1;33m    df1.P1.\u001b[0m\n\u001b[1;37m            ^\u001b[0m\n\u001b[1;31mSyntaxError\u001b[0m\u001b[1;31m:\u001b[0m invalid syntax\n"
     ]
    }
   ],
   "source": [
    "df1.P1. "
   ]
  },
  {
   "cell_type": "markdown",
   "id": "54489d94",
   "metadata": {},
   "source": [
    "### The Probalistic Confusion Index"
   ]
  },
  {
   "cell_type": "code",
   "execution_count": 63,
   "id": "7f91e252",
   "metadata": {},
   "outputs": [
    {
     "data": {
      "text/plain": [
       "(0.0, 1.0)"
      ]
     },
     "execution_count": 63,
     "metadata": {},
     "output_type": "execute_result"
    },
    {
     "data": {
      "image/png": "[encoded data removed]",
      "text/plain": [
       "<Figure size 432x288 with 2 Axes>"
      ]
     },
     "metadata": {},
     "output_type": "display_data"
    }
   ],
   "source": [
    "plt.subplot(1,2,1)\n",
    "df1[df1.label == 1].P1.hist();\n",
    "plt.xlabel(\"Probabilistic Label\")\n",
    "plt.ylabel(\"Count\")\n",
    "plt.title(\"Hand Label 'Surgery'\")\n",
    "plt.xlim([0,1])\n",
    "plt.subplot(1,2,2)\n",
    "df1[df1.label == 0].P1.hist();\n",
    "plt.xlabel(\"Probabilistic Label\")\n",
    "plt.ylabel(\"Count\")\n",
    "plt.title(\"Hand Label 'Not_Surgery'\")\n",
    "plt.xlim([0,1])\n",
    "\n"
   ]
  },
  {
   "cell_type": "markdown",
   "id": "a85c7a4d",
   "metadata": {},
   "source": [
    "We here see that \n",
    "<br>\n",
    "* The majority of data labeled 'Surgery' has P(S) around 0.60 (through not much) and the rest around 0.24\n",
    "* The rows hand labeled 'Not Surgery' Have P(S) around 0.24 and the rest around 0.60\n",
    "\n",
    "This is a good start,in that P(S) is skewed to the left for those label \"Not Surgery\" and to the right for those labeled \"Surgery\".However,we would want it skewed far closer to P(S)=1 for those label Surgeryso there's still work to do. "
   ]
  },
  {
   "cell_type": "markdown",
   "id": "b7896401",
   "metadata": {},
   "source": [
    "## Label Distribution Plot"
   ]
  },
  {
   "cell_type": "markdown",
   "id": "01655c7b",
   "metadata": {},
   "source": [
    "The next key plot is the label prediction distribution plot across the dataset: we want to see how our label predictions are distributed and whether this matches up to what we know of our base rate. For example, in our case, we know that our base rate is likely somewhere around 25%. So what we would expect to see in the label distribution is -25% of our dataset with a near 100% chance of being surgery and -75% of it with a low chance of being surgery."
   ]
  },
  {
   "cell_type": "code",
   "execution_count": 64,
   "id": "119c9073",
   "metadata": {},
   "outputs": [
    {
     "data": {
      "text/plain": [
       "<AxesSubplot:ylabel='Density'>"
      ]
     },
     "execution_count": 64,
     "metadata": {},
     "output_type": "execute_result"
    },
    {
     "data": {
      "image/png": "[encoded data removed]",
      "text/plain": [
       "<Figure size 432x288 with 1 Axes>"
      ]
     },
     "metadata": {},
     "output_type": "display_data"
    }
   ],
   "source": [
    "df1.P1.plot.kde()"
   ]
  },
  {
   "cell_type": "markdown",
   "id": "39826d9f",
   "metadata": {},
   "source": [
    "We see peaks at -25% and -60%, which means that our model really doesn't yet have a strong sense of the label and so we want to add more hinters. Essentially, we'd really like to see our probabilistic predictions closer to ) and 1, in a proportion that respects the base rate."
   ]
  },
  {
   "cell_type": "markdown",
   "id": "21f7a83d",
   "metadata": {},
   "source": [
    "### Building more Hinters\n"
   ]
  },
  {
   "cell_type": "markdown",
   "id": "11c66cb2",
   "metadata": {},
   "source": [
    "To build better labels, we can inject more domain expertise by adding more hinters. We do this below by adding two more positive hinters (ones that are correlated with 'Surgery'), which alter our predicted probability in a manner analogous to the hinter above."
   ]
  },
  {
   "cell_type": "code",
   "execution_count": 14,
   "id": "3acc9d3f",
   "metadata": {},
   "outputs": [],
   "source": [
    "#Create columns to encode Hinters\n",
    "df1['h2'] = df1['transcription'].str.contains('blade')\n",
    "#Hinter will alter P(S): 1st approx. if row is +ve wrt to hinter,take average, if row is -ve do nothing\n",
    "# Update P(S) as follows\n",
    "# if h1 is false, do nothing\n",
    "#if h1 is true then, then take average P(S)  and  Weight(0.95),unless labeled\n",
    "\n",
    "W =0.95\n",
    "L= []\n",
    "for index,row in df1.iterrows():\n",
    "    if df1.iloc[index]['h2']:\n",
    "        P2 = (df1.iloc[index]['P1'] +W)/2\n",
    "        L.append(P2)\n",
    "    else:\n",
    "        P2 = df1.iloc[index]['P1']\n",
    "        L.append(P2)\n",
    "        \n",
    "df1['P2'] = L\n",
    "\n"
   ]
  },
  {
   "cell_type": "code",
   "execution_count": 15,
   "id": "b767b83f",
   "metadata": {},
   "outputs": [
    {
     "data": {
      "text/plain": [
       "(0.0, 1.0)"
      ]
     },
     "execution_count": 15,
     "metadata": {},
     "output_type": "execute_result"
    },
    {
     "data": {
      "image/png": "[encoded data removed]",
      "text/plain": [
       "<Figure size 432x288 with 2 Axes>"
      ]
     },
     "metadata": {
      "needs_background": "light"
     },
     "output_type": "display_data"
    }
   ],
   "source": [
    "plt.subplot(1,2,1)\n",
    "df1[df1.label == 1].P2.hist();\n",
    "plt.xlabel(\"Probabilistic Label\")\n",
    "plt.ylabel(\"Count\")\n",
    "plt.title(\"Hand Label 'Surgery'\")\n",
    "plt.xlim([0,1])\n",
    "plt.subplot(1,2,2)\n",
    "df1[df1.label == 0].P2.hist();\n",
    "plt.xlabel(\"Probabilistic Label\")\n",
    "plt.ylabel(\"Count\")\n",
    "plt.title(\"Hand Label 'Not_Surgery'\")\n",
    "plt.xlim([0,1])"
   ]
  },
  {
   "cell_type": "code",
   "execution_count": 16,
   "id": "23e6914b",
   "metadata": {},
   "outputs": [
    {
     "data": {
      "text/html": [
       "<div>\n",
       "<style scoped>\n",
       "    .dataframe tbody tr th:only-of-type {\n",
       "        vertical-align: middle;\n",
       "    }\n",
       "\n",
       "    .dataframe tbody tr th {\n",
       "        vertical-align: top;\n",
       "    }\n",
       "\n",
       "    .dataframe thead th {\n",
       "        text-align: right;\n",
       "    }\n",
       "</style>\n",
       "<table border=\"1\" class=\"dataframe\">\n",
       "  <thead>\n",
       "    <tr style=\"text-align: right;\">\n",
       "      <th></th>\n",
       "      <th>index</th>\n",
       "      <th>Unnamed: 0</th>\n",
       "      <th>description</th>\n",
       "      <th>medical_specialty</th>\n",
       "      <th>sample_name</th>\n",
       "      <th>transcription</th>\n",
       "      <th>keywords</th>\n",
       "      <th>label</th>\n",
       "      <th>h1</th>\n",
       "      <th>P1</th>\n",
       "      <th>h2</th>\n",
       "      <th>P2</th>\n",
       "    </tr>\n",
       "  </thead>\n",
       "  <tbody>\n",
       "    <tr>\n",
       "      <th>0</th>\n",
       "      <td>84</td>\n",
       "      <td>84</td>\n",
       "      <td>An example/template for meatotomy.</td>\n",
       "      <td>Urology</td>\n",
       "      <td>Meatotomy Template</td>\n",
       "      <td>OPERATIVE NOTE:  ,The patient was taken to the...</td>\n",
       "      <td>urology, urethral meatus, mosquito hemostat, m...</td>\n",
       "      <td>0</td>\n",
       "      <td>False</td>\n",
       "      <td>0.240</td>\n",
       "      <td>False</td>\n",
       "      <td>0.240</td>\n",
       "    </tr>\n",
       "    <tr>\n",
       "      <th>1</th>\n",
       "      <td>2470</td>\n",
       "      <td>2470</td>\n",
       "      <td>Normal physical exam template.  Normal appear...</td>\n",
       "      <td>Office Notes</td>\n",
       "      <td>Normal Physical Exam Template - 6</td>\n",
       "      <td>VITAL SIGNS:,  Reveal a blood pressure of *, t...</td>\n",
       "      <td>office notes, jugular venous distention, flank...</td>\n",
       "      <td>0</td>\n",
       "      <td>False</td>\n",
       "      <td>0.240</td>\n",
       "      <td>False</td>\n",
       "      <td>0.240</td>\n",
       "    </tr>\n",
       "    <tr>\n",
       "      <th>2</th>\n",
       "      <td>2804</td>\n",
       "      <td>2804</td>\n",
       "      <td>Neurologic consultation was requested to asse...</td>\n",
       "      <td>Neurology</td>\n",
       "      <td>Neurologic Consultation - 3</td>\n",
       "      <td>HISTORY: , Neurologic consultation was request...</td>\n",
       "      <td>neurology, eye blinking, status epilepticus, s...</td>\n",
       "      <td>0</td>\n",
       "      <td>False</td>\n",
       "      <td>0.240</td>\n",
       "      <td>False</td>\n",
       "      <td>0.240</td>\n",
       "    </tr>\n",
       "    <tr>\n",
       "      <th>3</th>\n",
       "      <td>4987</td>\n",
       "      <td>4987</td>\n",
       "      <td>Multiple sharp force injuries, involving ches...</td>\n",
       "      <td>Autopsy</td>\n",
       "      <td>Autopsy - 6</td>\n",
       "      <td>ANATOMICAL SUMMARY,1. Sharp force wound of nec...</td>\n",
       "      <td>NaN</td>\n",
       "      <td>0</td>\n",
       "      <td>False</td>\n",
       "      <td>0.240</td>\n",
       "      <td>False</td>\n",
       "      <td>0.240</td>\n",
       "    </tr>\n",
       "    <tr>\n",
       "      <th>4</th>\n",
       "      <td>4924</td>\n",
       "      <td>4924</td>\n",
       "      <td>The patient with atypical type right arm disc...</td>\n",
       "      <td>Cardiovascular / Pulmonary</td>\n",
       "      <td>Cardiac Catheterization - 2</td>\n",
       "      <td>INDICATIONS FOR PROCEDURE:, The patient has pr...</td>\n",
       "      <td>cardiovascular / pulmonary, discomfort, subcla...</td>\n",
       "      <td>0</td>\n",
       "      <td>True</td>\n",
       "      <td>0.595</td>\n",
       "      <td>False</td>\n",
       "      <td>0.595</td>\n",
       "    </tr>\n",
       "  </tbody>\n",
       "</table>\n",
       "</div>"
      ],
      "text/plain": [
       "   index  Unnamed: 0                                        description  \\\n",
       "0     84          84                 An example/template for meatotomy.   \n",
       "1   2470        2470   Normal physical exam template.  Normal appear...   \n",
       "2   2804        2804   Neurologic consultation was requested to asse...   \n",
       "3   4987        4987   Multiple sharp force injuries, involving ches...   \n",
       "4   4924        4924   The patient with atypical type right arm disc...   \n",
       "\n",
       "             medical_specialty                          sample_name  \\\n",
       "0                      Urology                  Meatotomy Template    \n",
       "1                 Office Notes   Normal Physical Exam Template - 6    \n",
       "2                    Neurology         Neurologic Consultation - 3    \n",
       "3                      Autopsy                         Autopsy - 6    \n",
       "4   Cardiovascular / Pulmonary         Cardiac Catheterization - 2    \n",
       "\n",
       "                                       transcription  \\\n",
       "0  OPERATIVE NOTE:  ,The patient was taken to the...   \n",
       "1  VITAL SIGNS:,  Reveal a blood pressure of *, t...   \n",
       "2  HISTORY: , Neurologic consultation was request...   \n",
       "3  ANATOMICAL SUMMARY,1. Sharp force wound of nec...   \n",
       "4  INDICATIONS FOR PROCEDURE:, The patient has pr...   \n",
       "\n",
       "                                            keywords label     h1     P1  \\\n",
       "0  urology, urethral meatus, mosquito hemostat, m...     0  False  0.240   \n",
       "1  office notes, jugular venous distention, flank...     0  False  0.240   \n",
       "2  neurology, eye blinking, status epilepticus, s...     0  False  0.240   \n",
       "3                                                NaN     0  False  0.240   \n",
       "4  cardiovascular / pulmonary, discomfort, subcla...     0   True  0.595   \n",
       "\n",
       "      h2     P2  \n",
       "0  False  0.240  \n",
       "1  False  0.240  \n",
       "2  False  0.240  \n",
       "3  False  0.240  \n",
       "4  False  0.595  "
      ]
     },
     "execution_count": 16,
     "metadata": {},
     "output_type": "execute_result"
    }
   ],
   "source": [
    "df1.head()"
   ]
  },
  {
   "cell_type": "code",
   "execution_count": 17,
   "id": "e14ba7b9",
   "metadata": {},
   "outputs": [
    {
     "data": {
      "text/plain": [
       "<AxesSubplot:ylabel='Density'>"
      ]
     },
     "execution_count": 17,
     "metadata": {},
     "output_type": "execute_result"
    },
    {
     "data": {
      "image/png": "[encoded data removed]",
      "text/plain": [
       "<Figure size 432x288 with 1 Axes>"
      ]
     },
     "metadata": {
      "needs_background": "light"
     },
     "output_type": "display_data"
    }
   ],
   "source": [
    "df1.P2.plot.kde()"
   ]
  },
  {
   "cell_type": "markdown",
   "id": "5b55156d",
   "metadata": {},
   "source": [
    "### Building More Hinters"
   ]
  },
  {
   "cell_type": "code",
   "execution_count": 19,
   "id": "6cde436d",
   "metadata": {},
   "outputs": [],
   "source": [
    "#Create columns to encode Hinters\n",
    "df1['h3'] = df1['transcription'].str.contains('sponge')\n",
    "#Hinter will alter P(S): 1st approx. if row is +ve wrt to hinter,take average, if row is -ve do nothing\n",
    "# Update P(S) as follows\n",
    "# if h1 is false, do nothing\n",
    "#if h1 is true then, then take average P(S)  and  Weight(0.95),unless labeled\n",
    "\n",
    "W =0.95\n",
    "L= []\n",
    "for index,row in df1.iterrows():\n",
    "    if df1.iloc[index]['h3']:\n",
    "        P3 = (df1.iloc[index]['P2'] +W)/2\n",
    "        L.append(P3)\n",
    "    else:\n",
    "        P3 = df1.iloc[index]['P2']\n",
    "        L.append(P3)\n",
    "        \n",
    "df1['P3'] = L"
   ]
  },
  {
   "cell_type": "code",
   "execution_count": 21,
   "id": "c1410b8a",
   "metadata": {},
   "outputs": [
    {
     "data": {
      "text/plain": [
       "(0.0, 1.0)"
      ]
     },
     "execution_count": 21,
     "metadata": {},
     "output_type": "execute_result"
    },
    {
     "data": {
      "image/png": "[encoded data removed]",
      "text/plain": [
       "<Figure size 432x288 with 2 Axes>"
      ]
     },
     "metadata": {
      "needs_background": "light"
     },
     "output_type": "display_data"
    }
   ],
   "source": [
    "plt.subplot(1,2,1)\n",
    "df1[df1.label == 1].P3.hist();\n",
    "plt.xlabel(\"Probabilistic Label\")\n",
    "plt.ylabel(\"Count\")\n",
    "plt.title(\"Hand Label 'Surgery'\")\n",
    "plt.xlim([0,1])\n",
    "plt.subplot(1,2,2)\n",
    "df1[df1.label == 0].P3.hist();\n",
    "plt.xlabel(\"Probabilistic Label\")\n",
    "plt.ylabel(\"Count\")\n",
    "plt.title(\"Hand Label 'Not_Surgery'\")\n",
    "plt.xlim([0,1])"
   ]
  },
  {
   "cell_type": "code",
   "execution_count": 22,
   "id": "ab5a309b",
   "metadata": {},
   "outputs": [
    {
     "data": {
      "text/plain": [
       "<AxesSubplot:ylabel='Density'>"
      ]
     },
     "execution_count": 22,
     "metadata": {},
     "output_type": "execute_result"
    },
    {
     "data": {
      "image/png": "[encoded data removed]",
      "text/plain": [
       "<Figure size 432x288 with 1 Axes>"
      ]
     },
     "metadata": {
      "needs_background": "light"
     },
     "output_type": "display_data"
    }
   ],
   "source": [
    "df1.P3.plot.kde()"
   ]
  },
  {
   "cell_type": "markdown",
   "id": "348f088b",
   "metadata": {},
   "source": [
    "Two things have happened, as we increased our number of hinters:\n",
    "<br>\n",
    "1. In our probabilistic confusion index, we've seen the histogram for those hand labeled 'Surgery' move to the right, which is good! We've also seen thehistogram for hand labeled 'Surgery' move slightly to the right, which we don't want. Note that this is because we have only introduced positive hinters so we may want to introduce negative hinters next or use a more sophisticated method of moving from hinter to probabilistic labels. \n",
    "<br>\n",
    "2. Our label distribution plot now has more density above P(S) = 0.5 (more density on the right), which is also desirable. Recall what we would expect to see in the label distribution is -25% of our dataset with a near 100% chance of being surgery and -75% of it with a low chance of being surgery."
   ]
  },
  {
   "cell_type": "markdown",
   "id": "4b194028",
   "metadata": {},
   "source": [
    "##  Learning a Generative Model for P-labels"
   ]
  },
  {
   "cell_type": "markdown",
   "id": "c9fbbd06",
   "metadata": {},
   "source": [
    "Such hinters, although instructive as toy examples, can only be so performant. Let's now use a larger set of hinters to see how if we can build better training data.\n",
    "\n",
    "We'll also use a more sophisticated method of moving from hinter to probabilistic label: instead of averaging over a weight and previous probabilistic prediction, we'll use a Naive Bayes model, which is a generative model. A generative model is one that models the joint probability **P(X,Y)** of features X and target Y, in contrast to discriminative models that model the conditional probability **P(Y|X)** of the target conditional on the features. A strength of using a generative model, as opposed to a discriminative model like a random forest, is that it allows us to model the complex relationships between the dat, the target variable, and the hinters: it allows us to answer questions such as \"Which hinters are noisier than the others?\" and \"In which cases are they noisy?\" For more on generative models, Google has a nice introduction here.\n",
    "\n",
    "To do this, we create arrays that encode whether or not a hinter is present, for any given row. First, let's create lists of positive and negative hinters:"
   ]
  },
  {
   "cell_type": "code",
   "execution_count": 24,
   "id": "caf58f91",
   "metadata": {},
   "outputs": [],
   "source": [
    "#List of Positive Hinters\n",
    "pos_hinters = ['anesthesia', 'blade', 'sponge']\n",
    "#List of Negative Hinters\n",
    "neg_hinters =['psych', 'reflexes','pupils','married']"
   ]
  },
  {
   "cell_type": "code",
   "execution_count": 37,
   "id": "23d49960",
   "metadata": {},
   "outputs": [],
   "source": [
    "#For each hinter we will create an coulmn in the dataframe encoding whether the term is present or not.\n",
    "for hinter in pos_hinters:\n",
    "    df1[hinter] = df1['transcription'].str.contains(hinter,na=0).astype(int)\n",
    "for hinter in neg_hinters:\n",
    "    df1[hinter] = -df1['transcription'].str.contains(hinter,na=0).astype(int)"
   ]
  },
  {
   "cell_type": "code",
   "execution_count": 40,
   "id": "6b3591cd",
   "metadata": {},
   "outputs": [
    {
     "data": {
      "text/plain": [
       "(4999, 21)"
      ]
     },
     "execution_count": 40,
     "metadata": {},
     "output_type": "execute_result"
    }
   ],
   "source": [
    "df1.shape"
   ]
  },
  {
   "cell_type": "markdown",
   "id": "4df6c351",
   "metadata": {},
   "source": [
    "We now convert the labeled data into NumPy arrays and split it into training and validation sets, in order to train our probabilistic predictions on the former and test them on the latter (note we're currently using only positive hinters)."
   ]
  },
  {
   "cell_type": "code",
   "execution_count": 43,
   "id": "d667ece7",
   "metadata": {},
   "outputs": [],
   "source": [
    "#extract labeled data\n",
    "df_lab = df1[~df1['label'].isnull()]\n",
    "#convert to numpy arrays\n",
    "X = df_lab[pos_hinters].to_numpy()\n",
    "y = df_lab['label'].to_numpy().astype(int)\n",
    "#Splitting into train and test split\n",
    "from sklearn.model_selection import train_test_split\n",
    "X_train,X_test,y_train,y_test = train_test_split(X,y,test_size=0.3,random_state=42)\n"
   ]
  },
  {
   "cell_type": "code",
   "execution_count": 44,
   "id": "949a64bd",
   "metadata": {},
   "outputs": [
    {
     "data": {
      "text/html": [
       "<style>#sk-container-id-1 {color: black;background-color: white;}#sk-container-id-1 pre{padding: 0;}#sk-container-id-1 div.sk-toggleable {background-color: white;}#sk-container-id-1 label.sk-toggleable__label {cursor: pointer;display: block;width: 100%;margin-bottom: 0;padding: 0.3em;box-sizing: border-box;text-align: center;}#sk-container-id-1 label.sk-toggleable__label-arrow:before {content: \"▸\";float: left;margin-right: 0.25em;color: #696969;}#sk-container-id-1 label.sk-toggleable__label-arrow:hover:before {color: black;}#sk-container-id-1 div.sk-estimator:hover label.sk-toggleable__label-arrow:before {color: black;}#sk-container-id-1 div.sk-toggleable__content {max-height: 0;max-width: 0;overflow: hidden;text-align: left;background-color: #f0f8ff;}#sk-container-id-1 div.sk-toggleable__content pre {margin: 0.2em;color: black;border-radius: 0.25em;background-color: #f0f8ff;}#sk-container-id-1 input.sk-toggleable__control:checked~div.sk-toggleable__content {max-height: 200px;max-width: 100%;overflow: auto;}#sk-container-id-1 input.sk-toggleable__control:checked~label.sk-toggleable__label-arrow:before {content: \"▾\";}#sk-container-id-1 div.sk-estimator input.sk-toggleable__control:checked~label.sk-toggleable__label {background-color: #d4ebff;}#sk-container-id-1 div.sk-label input.sk-toggleable__control:checked~label.sk-toggleable__label {background-color: #d4ebff;}#sk-container-id-1 input.sk-hidden--visually {border: 0;clip: rect(1px 1px 1px 1px);clip: rect(1px, 1px, 1px, 1px);height: 1px;margin: -1px;overflow: hidden;padding: 0;position: absolute;width: 1px;}#sk-container-id-1 div.sk-estimator {font-family: monospace;background-color: #f0f8ff;border: 1px dotted black;border-radius: 0.25em;box-sizing: border-box;margin-bottom: 0.5em;}#sk-container-id-1 div.sk-estimator:hover {background-color: #d4ebff;}#sk-container-id-1 div.sk-parallel-item::after {content: \"\";width: 100%;border-bottom: 1px solid gray;flex-grow: 1;}#sk-container-id-1 div.sk-label:hover label.sk-toggleable__label {background-color: #d4ebff;}#sk-container-id-1 div.sk-serial::before {content: \"\";position: absolute;border-left: 1px solid gray;box-sizing: border-box;top: 0;bottom: 0;left: 50%;z-index: 0;}#sk-container-id-1 div.sk-serial {display: flex;flex-direction: column;align-items: center;background-color: white;padding-right: 0.2em;padding-left: 0.2em;position: relative;}#sk-container-id-1 div.sk-item {position: relative;z-index: 1;}#sk-container-id-1 div.sk-parallel {display: flex;align-items: stretch;justify-content: center;background-color: white;position: relative;}#sk-container-id-1 div.sk-item::before, #sk-container-id-1 div.sk-parallel-item::before {content: \"\";position: absolute;border-left: 1px solid gray;box-sizing: border-box;top: 0;bottom: 0;left: 50%;z-index: -1;}#sk-container-id-1 div.sk-parallel-item {display: flex;flex-direction: column;z-index: 1;position: relative;background-color: white;}#sk-container-id-1 div.sk-parallel-item:first-child::after {align-self: flex-end;width: 50%;}#sk-container-id-1 div.sk-parallel-item:last-child::after {align-self: flex-start;width: 50%;}#sk-container-id-1 div.sk-parallel-item:only-child::after {width: 0;}#sk-container-id-1 div.sk-dashed-wrapped {border: 1px dashed gray;margin: 0 0.4em 0.5em 0.4em;box-sizing: border-box;padding-bottom: 0.4em;background-color: white;}#sk-container-id-1 div.sk-label label {font-family: monospace;font-weight: bold;display: inline-block;line-height: 1.2em;}#sk-container-id-1 div.sk-label-container {text-align: center;}#sk-container-id-1 div.sk-container {/* jupyter's `normalize.less` sets `[hidden] { display: none; }` but bootstrap.min.css set `[hidden] { display: none !important; }` so we also need the `!important` here to be able to override the default hidden behavior on the sphinx rendered scikit-learn.org. See: https://github.com/scikit-learn/scikit-learn/issues/21755 */display: inline-block !important;position: relative;}#sk-container-id-1 div.sk-text-repr-fallback {display: none;}</style><div id=\"sk-container-id-1\" class=\"sk-top-container\"><div class=\"sk-text-repr-fallback\"><pre>BernoulliNB(class_prior=[0.24, 0.76])</pre><b>In a Jupyter environment, please rerun this cell to show the HTML representation or trust the notebook. <br />On GitHub, the HTML representation is unable to render, please try loading this page with nbviewer.org.</b></div><div class=\"sk-container\" hidden><div class=\"sk-item\"><div class=\"sk-estimator sk-toggleable\"><input class=\"sk-toggleable__control sk-hidden--visually\" id=\"sk-estimator-id-1\" type=\"checkbox\" checked><label for=\"sk-estimator-id-1\" class=\"sk-toggleable__label sk-toggleable__label-arrow\">BernoulliNB</label><div class=\"sk-toggleable__content\"><pre>BernoulliNB(class_prior=[0.24, 0.76])</pre></div></div></div></div></div>"
      ],
      "text/plain": [
       "BernoulliNB(class_prior=[0.24, 0.76])"
      ]
     },
     "execution_count": 44,
     "metadata": {},
     "output_type": "execute_result"
    }
   ],
   "source": [
    "#Now to train Bernoulli or Naive Bayes Algorith on train data\n",
    "from sklearn.naive_bayes import BernoulliNB\n",
    "clf = BernoulliNB(class_prior=[base_rate, 1-base_rate])\n",
    "clf.fit(X_train,y_train)"
   ]
  },
  {
   "cell_type": "markdown",
   "id": "d97700f5",
   "metadata": {},
   "source": [
    "With this trained model let's now make our probabilistic prdiction on our validation(or test) set  and visualize our probabilistic confusion index  to compaire our prediction with our hand labels"
   ]
  },
  {
   "cell_type": "code",
   "execution_count": 47,
   "id": "1060686d",
   "metadata": {},
   "outputs": [],
   "source": [
    "proba_test = clf.predict_proba(X_test)\n",
    "df_val = pd.DataFrame({'label': y_test, 'pred': proba_test[:,1]})\n"
   ]
  },
  {
   "cell_type": "code",
   "execution_count": 49,
   "id": "0fb59f00",
   "metadata": {},
   "outputs": [
    {
     "data": {
      "text/plain": [
       "(0.0, 1.0)"
      ]
     },
     "execution_count": 49,
     "metadata": {},
     "output_type": "execute_result"
    },
    {
     "data": {
      "image/png": "[encoded data removed]",
      "text/plain": [
       "<Figure size 432x288 with 2 Axes>"
      ]
     },
     "metadata": {},
     "output_type": "display_data"
    }
   ],
   "source": [
    "plt.subplot(1,2,1)\n",
    "df_val[df_val.label == 1].pred.hist();\n",
    "plt.xlabel(\"Probabilistic Label\")\n",
    "plt.ylabel(\"Count\")\n",
    "plt.title(\"Hand Label 'Surgery'\")\n",
    "plt.xlim([0,1])\n",
    "plt.subplot(1,2,2)\n",
    "df_val[df_val.label == 0].pred.hist();\n",
    "plt.xlabel(\"Probabilistic Label\")\n",
    "plt.ylabel(\"Count\")\n",
    "plt.title(\"Hand Label 'Not_Surgery'\")\n",
    "plt.xlim([0,1])"
   ]
  },
  {
   "cell_type": "markdown",
   "id": "5bda2cbf",
   "metadata": {},
   "source": [
    "This is cool! Using more hinters and a Naive Bayes model, we see that we've managed to increase the number of true positives and true negatives. This is visible in the plots above as the histogram for the hand label 'Sugery' is skewed more to the right and the histogram for 'Not Surgery' to the left.\n",
    "Now let's plot the entire label distribution plot:"
   ]
  },
  {
   "cell_type": "code",
   "execution_count": 50,
   "id": "18969846",
   "metadata": {},
   "outputs": [
    {
     "data": {
      "text/plain": [
       "<AxesSubplot:ylabel='Density'>"
      ]
     },
     "execution_count": 50,
     "metadata": {},
     "output_type": "execute_result"
    },
    {
     "data": {
      "image/png": "[encoded data removed]",
      "text/plain": [
       "<Figure size 432x288 with 1 Axes>"
      ]
     },
     "metadata": {},
     "output_type": "display_data"
    }
   ],
   "source": [
    "probs_all = clf.predict_proba(df1[pos_hinters].to_numpy())\n",
    "df1['pred'] = probs_all[:,1]\n",
    "df1.pred.plot.kde()"
   ]
  },
  {
   "cell_type": "markdown",
   "id": "c17f5dde",
   "metadata": {},
   "source": [
    "This is a significant improvement to our previous labels, as we have far more density closer to 1. Let's now see if we can make any performance gains adding in the negative hinters"
   ]
  },
  {
   "cell_type": "code",
   "execution_count": 55,
   "id": "dd64c1c7",
   "metadata": {},
   "outputs": [],
   "source": [
    "#extract labeled data\n",
    "df_lab = df1[~df1['label'].isnull()]\n",
    "#convert to numpy arrays\n",
    "X = df_lab[pos_hinters + neg_hinters].to_numpy()\n",
    "y = df_lab['label'].to_numpy().astype(int)\n",
    "#Splitting into train and test split\n",
    "from sklearn.model_selection import train_test_split\n",
    "X_train,X_test,y_train,y_test = train_test_split(X,y,test_size=0.3,random_state=42)"
   ]
  },
  {
   "cell_type": "code",
   "execution_count": 56,
   "id": "b34debd3",
   "metadata": {},
   "outputs": [
    {
     "data": {
      "text/html": [
       "<style>#sk-container-id-3 {color: black;background-color: white;}#sk-container-id-3 pre{padding: 0;}#sk-container-id-3 div.sk-toggleable {background-color: white;}#sk-container-id-3 label.sk-toggleable__label {cursor: pointer;display: block;width: 100%;margin-bottom: 0;padding: 0.3em;box-sizing: border-box;text-align: center;}#sk-container-id-3 label.sk-toggleable__label-arrow:before {content: \"▸\";float: left;margin-right: 0.25em;color: #696969;}#sk-container-id-3 label.sk-toggleable__label-arrow:hover:before {color: black;}#sk-container-id-3 div.sk-estimator:hover label.sk-toggleable__label-arrow:before {color: black;}#sk-container-id-3 div.sk-toggleable__content {max-height: 0;max-width: 0;overflow: hidden;text-align: left;background-color: #f0f8ff;}#sk-container-id-3 div.sk-toggleable__content pre {margin: 0.2em;color: black;border-radius: 0.25em;background-color: #f0f8ff;}#sk-container-id-3 input.sk-toggleable__control:checked~div.sk-toggleable__content {max-height: 200px;max-width: 100%;overflow: auto;}#sk-container-id-3 input.sk-toggleable__control:checked~label.sk-toggleable__label-arrow:before {content: \"▾\";}#sk-container-id-3 div.sk-estimator input.sk-toggleable__control:checked~label.sk-toggleable__label {background-color: #d4ebff;}#sk-container-id-3 div.sk-label input.sk-toggleable__control:checked~label.sk-toggleable__label {background-color: #d4ebff;}#sk-container-id-3 input.sk-hidden--visually {border: 0;clip: rect(1px 1px 1px 1px);clip: rect(1px, 1px, 1px, 1px);height: 1px;margin: -1px;overflow: hidden;padding: 0;position: absolute;width: 1px;}#sk-container-id-3 div.sk-estimator {font-family: monospace;background-color: #f0f8ff;border: 1px dotted black;border-radius: 0.25em;box-sizing: border-box;margin-bottom: 0.5em;}#sk-container-id-3 div.sk-estimator:hover {background-color: #d4ebff;}#sk-container-id-3 div.sk-parallel-item::after {content: \"\";width: 100%;border-bottom: 1px solid gray;flex-grow: 1;}#sk-container-id-3 div.sk-label:hover label.sk-toggleable__label {background-color: #d4ebff;}#sk-container-id-3 div.sk-serial::before {content: \"\";position: absolute;border-left: 1px solid gray;box-sizing: border-box;top: 0;bottom: 0;left: 50%;z-index: 0;}#sk-container-id-3 div.sk-serial {display: flex;flex-direction: column;align-items: center;background-color: white;padding-right: 0.2em;padding-left: 0.2em;position: relative;}#sk-container-id-3 div.sk-item {position: relative;z-index: 1;}#sk-container-id-3 div.sk-parallel {display: flex;align-items: stretch;justify-content: center;background-color: white;position: relative;}#sk-container-id-3 div.sk-item::before, #sk-container-id-3 div.sk-parallel-item::before {content: \"\";position: absolute;border-left: 1px solid gray;box-sizing: border-box;top: 0;bottom: 0;left: 50%;z-index: -1;}#sk-container-id-3 div.sk-parallel-item {display: flex;flex-direction: column;z-index: 1;position: relative;background-color: white;}#sk-container-id-3 div.sk-parallel-item:first-child::after {align-self: flex-end;width: 50%;}#sk-container-id-3 div.sk-parallel-item:last-child::after {align-self: flex-start;width: 50%;}#sk-container-id-3 div.sk-parallel-item:only-child::after {width: 0;}#sk-container-id-3 div.sk-dashed-wrapped {border: 1px dashed gray;margin: 0 0.4em 0.5em 0.4em;box-sizing: border-box;padding-bottom: 0.4em;background-color: white;}#sk-container-id-3 div.sk-label label {font-family: monospace;font-weight: bold;display: inline-block;line-height: 1.2em;}#sk-container-id-3 div.sk-label-container {text-align: center;}#sk-container-id-3 div.sk-container {/* jupyter's `normalize.less` sets `[hidden] { display: none; }` but bootstrap.min.css set `[hidden] { display: none !important; }` so we also need the `!important` here to be able to override the default hidden behavior on the sphinx rendered scikit-learn.org. See: https://github.com/scikit-learn/scikit-learn/issues/21755 */display: inline-block !important;position: relative;}#sk-container-id-3 div.sk-text-repr-fallback {display: none;}</style><div id=\"sk-container-id-3\" class=\"sk-top-container\"><div class=\"sk-text-repr-fallback\"><pre>BernoulliNB(class_prior=[0.24, 0.76])</pre><b>In a Jupyter environment, please rerun this cell to show the HTML representation or trust the notebook. <br />On GitHub, the HTML representation is unable to render, please try loading this page with nbviewer.org.</b></div><div class=\"sk-container\" hidden><div class=\"sk-item\"><div class=\"sk-estimator sk-toggleable\"><input class=\"sk-toggleable__control sk-hidden--visually\" id=\"sk-estimator-id-3\" type=\"checkbox\" checked><label for=\"sk-estimator-id-3\" class=\"sk-toggleable__label sk-toggleable__label-arrow\">BernoulliNB</label><div class=\"sk-toggleable__content\"><pre>BernoulliNB(class_prior=[0.24, 0.76])</pre></div></div></div></div></div>"
      ],
      "text/plain": [
       "BernoulliNB(class_prior=[0.24, 0.76])"
      ]
     },
     "execution_count": 56,
     "metadata": {},
     "output_type": "execute_result"
    }
   ],
   "source": [
    "#Now to train Bernoulli or Naive Bayes Algorith on train data\n",
    "from sklearn.naive_bayes import BernoulliNB\n",
    "clf = BernoulliNB(class_prior=[base_rate, 1-base_rate])\n",
    "clf.fit(X_train,y_train)"
   ]
  },
  {
   "cell_type": "markdown",
   "id": "a5009de8",
   "metadata": {},
   "source": [
    "Let's plot the Probabilistic Confusion Index and the  label distribution plot"
   ]
  },
  {
   "cell_type": "code",
   "execution_count": 57,
   "id": "96f34161",
   "metadata": {},
   "outputs": [],
   "source": [
    "proba_test = clf.predict_proba(X_test)\n",
    "df_val = pd.DataFrame({'label': y_test, 'pred': proba_test[:,1]})"
   ]
  },
  {
   "cell_type": "code",
   "execution_count": 60,
   "id": "07d07b4d",
   "metadata": {},
   "outputs": [
    {
     "data": {
      "text/plain": [
       "Text(0.5, 1.0, \"Hand Label 'Not_Surgery'\")"
      ]
     },
     "execution_count": 60,
     "metadata": {},
     "output_type": "execute_result"
    },
    {
     "data": {
      "image/png": "[encoded data removed]",
      "text/plain": [
       "<Figure size 432x288 with 2 Axes>"
      ]
     },
     "metadata": {},
     "output_type": "display_data"
    }
   ],
   "source": [
    "plt.subplot(1,2,1)\n",
    "df_val[df_val.label == 1].pred.hist();\n",
    "plt.xlabel(\"Probabilistic Label\")\n",
    "plt.ylabel(\"Count\")\n",
    "plt.title(\"Hand Label 'Surgery'\")\n",
    "# plt.xlim([0,1])\n",
    "plt.subplot(1,2,2)\n",
    "df_val[df_val.label == 0].pred.hist();\n",
    "plt.xlabel(\"Probabilistic Label\")\n",
    "plt.ylabel(\"Count\")\n",
    "plt.title(\"Hand Label 'Not_Surgery'\")\n",
    "# plt.xlim([0,1])"
   ]
  },
  {
   "cell_type": "code",
   "execution_count": 61,
   "id": "7ba488d1",
   "metadata": {},
   "outputs": [
    {
     "data": {
      "image/png": "[encoded data removed]",
      "text/plain": [
       "<Figure size 432x288 with 1 Axes>"
      ]
     },
     "metadata": {},
     "output_type": "display_data"
    }
   ],
   "source": [
    "probs_all  = clf.predict_proba(df1[pos_hinters + neg_hinters].to_numpy())\n",
    "df1['pred'] = probs_all[:,1]\n",
    "df1.pred.plot.kde();"
   ]
  },
  {
   "cell_type": "code",
   "execution_count": 62,
   "id": "754ef2ad",
   "metadata": {},
   "outputs": [
    {
     "data": {
      "text/plain": [
       "(0.6739608027798525, 0.7205457722719963, 0.6848020319915347, None)"
      ]
     },
     "execution_count": 62,
     "metadata": {},
     "output_type": "execute_result"
    }
   ],
   "source": [
    "from sklearn.metrics import precision_recall_fscore_support\n",
    "precision_recall_fscore_support(df['medical_specialty'].str.contains('Surgery'),df1['pred'].gt(0.6),average='macro')"
   ]
  },
  {
   "cell_type": "markdown",
   "id": "af2e7d2f",
   "metadata": {},
   "source": [
    "## Lesson 3: Weak Signal Generation"
   ]
  },
  {
   "cell_type": "markdown",
   "id": "b8bc68e9",
   "metadata": {},
   "source": [
    "We could obviously continue this process above with larger lists of positive and negative hinters, but creating those hinters manually can still be arduous work. Weak supervision tends to perform best with large quantities of independent sources of signal, so driving through that process by sitting at a computer thinking about different hinters you could create is slow work."
   ]
  },
  {
   "cell_type": "markdown",
   "id": "42176344",
   "metadata": {},
   "source": [
    "We can try automatically generating some hinters using simple clustering and similarity techniques. For instance,let's see what we can do just leveraing TF-IDF and K-Means"
   ]
  },
  {
   "cell_type": "code",
   "execution_count": 64,
   "id": "011c56dd",
   "metadata": {},
   "outputs": [],
   "source": [
    "from sklearn.feature_extraction.text import TfidfVectorizer\n",
    "from sklearn.cluster import KMeans\n",
    "from sklearn.decomposition import PCA\n",
    "import nltk\n",
    "from nltk.corpus import stopwords"
   ]
  },
  {
   "cell_type": "code",
   "execution_count": 65,
   "id": "fe077a66",
   "metadata": {},
   "outputs": [],
   "source": [
    "def preprocessing_text(text: str,remove_stopwords:bool) ->str:\n",
    "    if not pd.isnull(text):\n",
    "        if remove_stopwords:\n",
    "            tokens = nltk.word_tokenize(text)\n",
    "            tokens = [w for w in tokens if not w.lower() in stopwords.words(\"english\")]\n",
    "            text  = \" \".join(tokens)\n",
    "        text = text.lower().strip()\n",
    "    return text"
   ]
  },
  {
   "cell_type": "code",
   "execution_count": 66,
   "id": "c5b6dc15",
   "metadata": {},
   "outputs": [],
   "source": [
    "df['cleaned'] = df['transcription'].apply(lambda x : preprocessing_text(x,remove_stopwords=True))"
   ]
  },
  {
   "cell_type": "markdown",
   "id": "656aa163",
   "metadata": {},
   "source": [
    "We'll use TF-IDF to convert our transcriptions into a numerical format by identifying specific terms that are rare and likely predictive of our class.\n"
   ]
  },
  {
   "cell_type": "markdown",
   "id": "62471c37",
   "metadata": {},
   "source": [
    "TF stands for term frequency, while IDF stands for inverse document frequency. The TF-IDF value increases proportionally to the number of times a word appears in the document, and is offset by the number of documents in the corpus that contain that word."
   ]
  },
  {
   "cell_type": "code",
   "execution_count": 69,
   "id": "d8210a4d",
   "metadata": {},
   "outputs": [],
   "source": [
    "# initlaize the vectorizer \n",
    "vectorizer = TfidfVectorizer(sublinear_tf=True, min_df=5,max_df=0.95)\n",
    "#fit transform applies to TF-IDF  to clean the transcription\n",
    "X = vectorizer.fit_transform(df['cleaned'].values.astype('U'))"
   ]
  },
  {
   "cell_type": "markdown",
   "id": "8570fbd6",
   "metadata": {},
   "source": [
    "<br>\n",
    "X is the array of vectors that will be used to train the KMeans model. The default behavior of Sklearn is to create a sparse matrix. \n",
    "\n",
    "Vectorization generates vectors similar to this:\n",
    "vector_a = (1.204, 0, 0, 0, 0, ..., 0]\n",
    "\n",
    "We can actually plug this straight into our KMeans model"
   ]
  },
  {
   "cell_type": "code",
   "execution_count": 70,
   "id": "864d3522",
   "metadata": {},
   "outputs": [],
   "source": [
    "kmeans = KMeans(n_clusters=3,random_state=42)\n",
    "kmeans.fit(X)\n",
    "clusters = kmeans.labels_"
   ]
  },
  {
   "cell_type": "markdown",
   "id": "740fb9c5",
   "metadata": {},
   "source": [
    "We have our X from the Tf-IDF vectorization and we have a KMeans model and related clusters. Now we want to put these two pieces together to understand the relationship between text and group."
   ]
  },
  {
   "cell_type": "code",
   "execution_count": 71,
   "id": "4c251fec",
   "metadata": {},
   "outputs": [],
   "source": [
    "df['clusters'] = clusters"
   ]
  },
  {
   "cell_type": "code",
   "execution_count": 72,
   "id": "ac6b27ae",
   "metadata": {},
   "outputs": [
    {
     "data": {
      "text/html": [
       "<div>\n",
       "<style scoped>\n",
       "    .dataframe tbody tr th:only-of-type {\n",
       "        vertical-align: middle;\n",
       "    }\n",
       "\n",
       "    .dataframe tbody tr th {\n",
       "        vertical-align: top;\n",
       "    }\n",
       "\n",
       "    .dataframe thead th {\n",
       "        text-align: right;\n",
       "    }\n",
       "</style>\n",
       "<table border=\"1\" class=\"dataframe\">\n",
       "  <thead>\n",
       "    <tr style=\"text-align: right;\">\n",
       "      <th></th>\n",
       "      <th>index</th>\n",
       "      <th>Unnamed: 0</th>\n",
       "      <th>description</th>\n",
       "      <th>medical_specialty</th>\n",
       "      <th>sample_name</th>\n",
       "      <th>transcription</th>\n",
       "      <th>keywords</th>\n",
       "      <th>cleaned</th>\n",
       "      <th>clusters</th>\n",
       "    </tr>\n",
       "  </thead>\n",
       "  <tbody>\n",
       "    <tr>\n",
       "      <th>0</th>\n",
       "      <td>84</td>\n",
       "      <td>84</td>\n",
       "      <td>An example/template for meatotomy.</td>\n",
       "      <td>Urology</td>\n",
       "      <td>Meatotomy Template</td>\n",
       "      <td>OPERATIVE NOTE:  ,The patient was taken to the...</td>\n",
       "      <td>urology, urethral meatus, mosquito hemostat, m...</td>\n",
       "      <td>operative note : , patient taken operating roo...</td>\n",
       "      <td>2</td>\n",
       "    </tr>\n",
       "    <tr>\n",
       "      <th>1</th>\n",
       "      <td>2470</td>\n",
       "      <td>2470</td>\n",
       "      <td>Normal physical exam template.  Normal appear...</td>\n",
       "      <td>Office Notes</td>\n",
       "      <td>Normal Physical Exam Template - 6</td>\n",
       "      <td>VITAL SIGNS:,  Reveal a blood pressure of *, t...</td>\n",
       "      <td>office notes, jugular venous distention, flank...</td>\n",
       "      <td>vital signs : , reveal blood pressure * , temp...</td>\n",
       "      <td>0</td>\n",
       "    </tr>\n",
       "    <tr>\n",
       "      <th>2</th>\n",
       "      <td>2804</td>\n",
       "      <td>2804</td>\n",
       "      <td>Neurologic consultation was requested to asse...</td>\n",
       "      <td>Neurology</td>\n",
       "      <td>Neurologic Consultation - 3</td>\n",
       "      <td>HISTORY: , Neurologic consultation was request...</td>\n",
       "      <td>neurology, eye blinking, status epilepticus, s...</td>\n",
       "      <td>history : , neurologic consultation requested ...</td>\n",
       "      <td>0</td>\n",
       "    </tr>\n",
       "    <tr>\n",
       "      <th>3</th>\n",
       "      <td>4987</td>\n",
       "      <td>4987</td>\n",
       "      <td>Multiple sharp force injuries, involving ches...</td>\n",
       "      <td>Autopsy</td>\n",
       "      <td>Autopsy - 6</td>\n",
       "      <td>ANATOMICAL SUMMARY,1. Sharp force wound of nec...</td>\n",
       "      <td>NaN</td>\n",
       "      <td>anatomical summary,1 . sharp force wound neck ...</td>\n",
       "      <td>1</td>\n",
       "    </tr>\n",
       "    <tr>\n",
       "      <th>4</th>\n",
       "      <td>4924</td>\n",
       "      <td>4924</td>\n",
       "      <td>The patient with atypical type right arm disc...</td>\n",
       "      <td>Cardiovascular / Pulmonary</td>\n",
       "      <td>Cardiac Catheterization - 2</td>\n",
       "      <td>INDICATIONS FOR PROCEDURE:, The patient has pr...</td>\n",
       "      <td>cardiovascular / pulmonary, discomfort, subcla...</td>\n",
       "      <td>indications procedure : , patient presented at...</td>\n",
       "      <td>1</td>\n",
       "    </tr>\n",
       "  </tbody>\n",
       "</table>\n",
       "</div>"
      ],
      "text/plain": [
       "   index  Unnamed: 0                                        description  \\\n",
       "0     84          84                 An example/template for meatotomy.   \n",
       "1   2470        2470   Normal physical exam template.  Normal appear...   \n",
       "2   2804        2804   Neurologic consultation was requested to asse...   \n",
       "3   4987        4987   Multiple sharp force injuries, involving ches...   \n",
       "4   4924        4924   The patient with atypical type right arm disc...   \n",
       "\n",
       "             medical_specialty                          sample_name  \\\n",
       "0                      Urology                  Meatotomy Template    \n",
       "1                 Office Notes   Normal Physical Exam Template - 6    \n",
       "2                    Neurology         Neurologic Consultation - 3    \n",
       "3                      Autopsy                         Autopsy - 6    \n",
       "4   Cardiovascular / Pulmonary         Cardiac Catheterization - 2    \n",
       "\n",
       "                                       transcription  \\\n",
       "0  OPERATIVE NOTE:  ,The patient was taken to the...   \n",
       "1  VITAL SIGNS:,  Reveal a blood pressure of *, t...   \n",
       "2  HISTORY: , Neurologic consultation was request...   \n",
       "3  ANATOMICAL SUMMARY,1. Sharp force wound of nec...   \n",
       "4  INDICATIONS FOR PROCEDURE:, The patient has pr...   \n",
       "\n",
       "                                            keywords  \\\n",
       "0  urology, urethral meatus, mosquito hemostat, m...   \n",
       "1  office notes, jugular venous distention, flank...   \n",
       "2  neurology, eye blinking, status epilepticus, s...   \n",
       "3                                                NaN   \n",
       "4  cardiovascular / pulmonary, discomfort, subcla...   \n",
       "\n",
       "                                             cleaned  clusters  \n",
       "0  operative note : , patient taken operating roo...         2  \n",
       "1  vital signs : , reveal blood pressure * , temp...         0  \n",
       "2  history : , neurologic consultation requested ...         0  \n",
       "3  anatomical summary,1 . sharp force wound neck ...         1  \n",
       "4  indications procedure : , patient presented at...         1  "
      ]
     },
     "execution_count": 72,
     "metadata": {},
     "output_type": "execute_result"
    }
   ],
   "source": [
    "df.head()"
   ]
  },
  {
   "cell_type": "markdown",
   "id": "6cfaeece",
   "metadata": {},
   "source": [
    "Let's check the relevant Keywords for each centriod and see if we caught anything interesting"
   ]
  },
  {
   "cell_type": "code",
   "execution_count": 74,
   "id": "d6760e60",
   "metadata": {},
   "outputs": [
    {
     "name": "stdout",
     "output_type": "stream",
     "text": [
      "\n",
      "cluster 0\n",
      "soft,respiratory,sounds,edema,discharge,dr,pressure,vital,hypertension,today,social,well,plan,time,heent,without,signs,illness,old,disease,also,day,abdomen,blood,regular,year,review,systems,daily,neck,family,present,extremities,negative,rate,chest,heart,examination,physical,medical,clear,allergies,denies,medications,normal,pain,mg,past,patient,history\n",
      "\n",
      "cluster 1\n",
      "lesion,aortic,reason,scope,technique,throughout,moderate,valve,advanced,mg,distal,anterior,diagnosis,evaluation,mri,stenosis,revealed,significant,coronary,also,lower,noted,small,disease,images,within,cm,time,contrast,ct,well,without,artery,obtained,performed,history,unremarkable,pain,mild,seen,findings,impression,evidence,procedure,exam,nan,patient,left,normal,right\n",
      "\n",
      "cluster 2\n",
      "noted,sutures,usual,lateral,identified,supine,tolerated,brought,mm,dissection,anterior,fascia,hemostasis,needle,wound,complications,tissue,recovery,area,applied,condition,general,well,performed,suture,position,made,draped,postoperative,preoperative,prepped,vicryl,taken,sterile,skin,left,used,closed,right,operating,room,fashion,using,removed,diagnosis,incision,anesthesia,patient,placed,procedure\n"
     ]
    }
   ],
   "source": [
    "def top_keyswords(n_terms):\n",
    "    df = pd.DataFrame(X.todense()).groupby(clusters).mean() # group the TF-IDF vectors by cluster\n",
    "    terms = vectorizer.get_feature_names_out() #access the tf-idf terms \n",
    "    for i,r in df.iterrows():\n",
    "        print('\\ncluster {}'.format(i))\n",
    "        print(','.join([terms[t] for t in np.argsort(r) [-n_terms:]]))  # for each row of the dataframe, find the n terms that \n",
    "        \n",
    "top_keyswords(50)"
   ]
  },
  {
   "cell_type": "markdown",
   "id": "1a5ba1f8",
   "metadata": {},
   "source": [
    "Cluster 2 seems to be fairly close to what we're looking for regarding 'Surgery' related concepts, while Clusters 0 and 1 seem to have some terms that might be more closely aligned to regular check ups. We can tweak the number of clusters we want to look at here, but for the sake of this demonstration we'll just stick to 3. We can use these keywords to create larger positive and negative hinter lists and we'll see how that improves our performance."
   ]
  },
  {
   "cell_type": "markdown",
   "id": "b7248201",
   "metadata": {},
   "source": [
    "First, let's re-plot the charts from before for the sake of comparison."
   ]
  },
  {
   "cell_type": "code",
   "execution_count": 75,
   "id": "dfffe3e1",
   "metadata": {},
   "outputs": [
    {
     "data": {
      "text/plain": [
       "Text(0.5, 1.0, \"Hand Label 'Not_Surgery'\")"
      ]
     },
     "execution_count": 75,
     "metadata": {},
     "output_type": "execute_result"
    },
    {
     "data": {
      "image/png": "[encoded data removed]",
      "text/plain": [
       "<Figure size 432x288 with 2 Axes>"
      ]
     },
     "metadata": {},
     "output_type": "display_data"
    }
   ],
   "source": [
    "proba_test = clf.predict_proba(X_test)\n",
    "df_val = pd.DataFrame({'label': y_test, 'pred': proba_test[:,1]})\n",
    "plt.subplot(1,2,1)\n",
    "df_val[df_val.label == 1].pred.hist();\n",
    "plt.xlabel(\"Probabilistic Label\")\n",
    "plt.ylabel(\"Count\")\n",
    "plt.title(\"Hand Label 'Surgery'\")\n",
    "# plt.xlim([0,1])\n",
    "plt.subplot(1,2,2)\n",
    "df_val[df_val.label == 0].pred.hist();\n",
    "plt.xlabel(\"Probabilistic Label\")\n",
    "plt.ylabel(\"Count\")\n",
    "plt.title(\"Hand Label 'Not_Surgery'\")\n",
    "# plt.xlim([0,1])"
   ]
  },
  {
   "cell_type": "code",
   "execution_count": 76,
   "id": "d2d5ff82",
   "metadata": {},
   "outputs": [
    {
     "data": {
      "image/png": "[encoded data removed]",
      "text/plain": [
       "<Figure size 432x288 with 1 Axes>"
      ]
     },
     "metadata": {},
     "output_type": "display_data"
    }
   ],
   "source": [
    "probs_all  = clf.predict_proba(df1[pos_hinters + neg_hinters].to_numpy())\n",
    "df1['pred'] = probs_all[:,1]\n",
    "df1.pred.plot.kde();"
   ]
  },
  {
   "cell_type": "markdown",
   "id": "14a642c9",
   "metadata": {},
   "source": [
    "Next, let's update  our hinters lists by drawing from the keywords in the clustering above"
   ]
  },
  {
   "cell_type": "code",
   "execution_count": 77,
   "id": "fc65eeeb",
   "metadata": {},
   "outputs": [],
   "source": [
    "#List of Positive Hinters\n",
    "pos_hinters = ['anesthesia', 'blade', 'sponge','prepped','vicryl', 'sterile','operating','room','fashion', 'incision','procedure','closed','diagnosis','lateral','supine','dissection','fascia','hemostasis','needle','complications','tissue','draped']\n",
    "#List of Negative Hinters\n",
    "neg_hinters =['psych', 'reflexes','pupils','married','history','findings','unremarkable','allergies','normal','medical','family','examination','physical']"
   ]
  },
  {
   "cell_type": "code",
   "execution_count": 78,
   "id": "5175256d",
   "metadata": {},
   "outputs": [],
   "source": [
    "#For each hinter we will create an coulmn in the dataframe encoding whether the term is present or not.\n",
    "for hinter in pos_hinters:\n",
    "    df1[hinter] = df1['transcription'].str.contains(hinter,na=0).astype(int)\n",
    "for hinter in neg_hinters:\n",
    "    df1[hinter] = -df1['transcription'].str.contains(hinter,na=0).astype(int)"
   ]
  },
  {
   "cell_type": "code",
   "execution_count": 79,
   "id": "7882258b",
   "metadata": {},
   "outputs": [
    {
     "data": {
      "text/html": [
       "<style>#sk-container-id-4 {color: black;background-color: white;}#sk-container-id-4 pre{padding: 0;}#sk-container-id-4 div.sk-toggleable {background-color: white;}#sk-container-id-4 label.sk-toggleable__label {cursor: pointer;display: block;width: 100%;margin-bottom: 0;padding: 0.3em;box-sizing: border-box;text-align: center;}#sk-container-id-4 label.sk-toggleable__label-arrow:before {content: \"▸\";float: left;margin-right: 0.25em;color: #696969;}#sk-container-id-4 label.sk-toggleable__label-arrow:hover:before {color: black;}#sk-container-id-4 div.sk-estimator:hover label.sk-toggleable__label-arrow:before {color: black;}#sk-container-id-4 div.sk-toggleable__content {max-height: 0;max-width: 0;overflow: hidden;text-align: left;background-color: #f0f8ff;}#sk-container-id-4 div.sk-toggleable__content pre {margin: 0.2em;color: black;border-radius: 0.25em;background-color: #f0f8ff;}#sk-container-id-4 input.sk-toggleable__control:checked~div.sk-toggleable__content {max-height: 200px;max-width: 100%;overflow: auto;}#sk-container-id-4 input.sk-toggleable__control:checked~label.sk-toggleable__label-arrow:before {content: \"▾\";}#sk-container-id-4 div.sk-estimator input.sk-toggleable__control:checked~label.sk-toggleable__label {background-color: #d4ebff;}#sk-container-id-4 div.sk-label input.sk-toggleable__control:checked~label.sk-toggleable__label {background-color: #d4ebff;}#sk-container-id-4 input.sk-hidden--visually {border: 0;clip: rect(1px 1px 1px 1px);clip: rect(1px, 1px, 1px, 1px);height: 1px;margin: -1px;overflow: hidden;padding: 0;position: absolute;width: 1px;}#sk-container-id-4 div.sk-estimator {font-family: monospace;background-color: #f0f8ff;border: 1px dotted black;border-radius: 0.25em;box-sizing: border-box;margin-bottom: 0.5em;}#sk-container-id-4 div.sk-estimator:hover {background-color: #d4ebff;}#sk-container-id-4 div.sk-parallel-item::after {content: \"\";width: 100%;border-bottom: 1px solid gray;flex-grow: 1;}#sk-container-id-4 div.sk-label:hover label.sk-toggleable__label {background-color: #d4ebff;}#sk-container-id-4 div.sk-serial::before {content: \"\";position: absolute;border-left: 1px solid gray;box-sizing: border-box;top: 0;bottom: 0;left: 50%;z-index: 0;}#sk-container-id-4 div.sk-serial {display: flex;flex-direction: column;align-items: center;background-color: white;padding-right: 0.2em;padding-left: 0.2em;position: relative;}#sk-container-id-4 div.sk-item {position: relative;z-index: 1;}#sk-container-id-4 div.sk-parallel {display: flex;align-items: stretch;justify-content: center;background-color: white;position: relative;}#sk-container-id-4 div.sk-item::before, #sk-container-id-4 div.sk-parallel-item::before {content: \"\";position: absolute;border-left: 1px solid gray;box-sizing: border-box;top: 0;bottom: 0;left: 50%;z-index: -1;}#sk-container-id-4 div.sk-parallel-item {display: flex;flex-direction: column;z-index: 1;position: relative;background-color: white;}#sk-container-id-4 div.sk-parallel-item:first-child::after {align-self: flex-end;width: 50%;}#sk-container-id-4 div.sk-parallel-item:last-child::after {align-self: flex-start;width: 50%;}#sk-container-id-4 div.sk-parallel-item:only-child::after {width: 0;}#sk-container-id-4 div.sk-dashed-wrapped {border: 1px dashed gray;margin: 0 0.4em 0.5em 0.4em;box-sizing: border-box;padding-bottom: 0.4em;background-color: white;}#sk-container-id-4 div.sk-label label {font-family: monospace;font-weight: bold;display: inline-block;line-height: 1.2em;}#sk-container-id-4 div.sk-label-container {text-align: center;}#sk-container-id-4 div.sk-container {/* jupyter's `normalize.less` sets `[hidden] { display: none; }` but bootstrap.min.css set `[hidden] { display: none !important; }` so we also need the `!important` here to be able to override the default hidden behavior on the sphinx rendered scikit-learn.org. See: https://github.com/scikit-learn/scikit-learn/issues/21755 */display: inline-block !important;position: relative;}#sk-container-id-4 div.sk-text-repr-fallback {display: none;}</style><div id=\"sk-container-id-4\" class=\"sk-top-container\"><div class=\"sk-text-repr-fallback\"><pre>BernoulliNB(class_prior=[0.24, 0.76])</pre><b>In a Jupyter environment, please rerun this cell to show the HTML representation or trust the notebook. <br />On GitHub, the HTML representation is unable to render, please try loading this page with nbviewer.org.</b></div><div class=\"sk-container\" hidden><div class=\"sk-item\"><div class=\"sk-estimator sk-toggleable\"><input class=\"sk-toggleable__control sk-hidden--visually\" id=\"sk-estimator-id-4\" type=\"checkbox\" checked><label for=\"sk-estimator-id-4\" class=\"sk-toggleable__label sk-toggleable__label-arrow\">BernoulliNB</label><div class=\"sk-toggleable__content\"><pre>BernoulliNB(class_prior=[0.24, 0.76])</pre></div></div></div></div></div>"
      ],
      "text/plain": [
       "BernoulliNB(class_prior=[0.24, 0.76])"
      ]
     },
     "execution_count": 79,
     "metadata": {},
     "output_type": "execute_result"
    }
   ],
   "source": [
    "#extract labeled data\n",
    "df_lab = df1[~df1['label'].isnull()]\n",
    "#convert to numpy arrays\n",
    "X = df_lab[pos_hinters + neg_hinters].to_numpy()\n",
    "y = df_lab['label'].to_numpy().astype(int)\n",
    "\n",
    "#Splitting into train and test split\n",
    "from sklearn.model_selection import train_test_split\n",
    "X_train,X_test,y_train,y_test = train_test_split(X,y,test_size=0.3,random_state=42)\n",
    "\n",
    "#Time to train our NB model\n",
    "from sklearn.naive_bayes import BernoulliNB\n",
    "clf = BernoulliNB(class_prior=[base_rate, 1-base_rate])\n",
    "clf.fit(X_train,y_train)"
   ]
  },
  {
   "cell_type": "code",
   "execution_count": 80,
   "id": "422ce2bc",
   "metadata": {},
   "outputs": [
    {
     "data": {
      "text/plain": [
       "Text(0.5, 1.0, \"Hand Label 'Not_Surgery'\")"
      ]
     },
     "execution_count": 80,
     "metadata": {},
     "output_type": "execute_result"
    },
    {
     "data": {
      "image/png": "[encoded data removed]",
      "text/plain": [
       "<Figure size 432x288 with 2 Axes>"
      ]
     },
     "metadata": {},
     "output_type": "display_data"
    }
   ],
   "source": [
    "proba_test = clf.predict_proba(X_test)\n",
    "df_val = pd.DataFrame({'label': y_test, 'pred': proba_test[:,1]})\n",
    "plt.subplot(1,2,1)\n",
    "df_val[df_val.label == 1].pred.hist();\n",
    "plt.xlabel(\"Probabilistic Label\")\n",
    "plt.ylabel(\"Count\")\n",
    "plt.title(\"Hand Label 'Surgery'\")\n",
    "# plt.xlim([0,1])\n",
    "plt.subplot(1,2,2)\n",
    "df_val[df_val.label == 0].pred.hist();\n",
    "plt.xlabel(\"Probabilistic Label\")\n",
    "plt.ylabel(\"Count\")\n",
    "plt.title(\"Hand Label 'Not_Surgery'\")\n",
    "# plt.xlim([0,1])"
   ]
  },
  {
   "cell_type": "code",
   "execution_count": 81,
   "id": "d186d5e9",
   "metadata": {},
   "outputs": [
    {
     "data": {
      "image/png": "[encoded data removed]",
      "text/plain": [
       "<Figure size 432x288 with 1 Axes>"
      ]
     },
     "metadata": {},
     "output_type": "display_data"
    }
   ],
   "source": [
    "probs_all  = clf.predict_proba(df1[pos_hinters + neg_hinters].to_numpy())\n",
    "df1['pred'] = probs_all[:,1]\n",
    "df1.pred.plot.kde();"
   ]
  },
  {
   "cell_type": "code",
   "execution_count": 82,
   "id": "bc5b72f6",
   "metadata": {},
   "outputs": [
    {
     "data": {
      "text/plain": [
       "(0.6904720905799, 0.7444044675512411, 0.7026190578634748, None)"
      ]
     },
     "execution_count": 82,
     "metadata": {},
     "output_type": "execute_result"
    }
   ],
   "source": [
    "from sklearn.metrics import precision_recall_fscore_support\n",
    "precision_recall_fscore_support(df['medical_specialty'].str.contains('Surgery'),df1['pred'].gt(0.6),average='macro')"
   ]
  },
  {
   "cell_type": "markdown",
   "id": "0731b959",
   "metadata": {},
   "source": [
    "This is a huge improvement over our manually created hinters. We're able to get clear separation between low-probability and high-probability labels, and overall clear alignment with what we are considering as \"ground truth\". There are many ways to expand on this idea of hinter generation, but this was meant to be a simplistic example to demonstrate how effective these techniques can be when used correctly.\n",
    "\n",
    "\n",
    "Let's finally take a look at some of the predictions just for some spot checking"
   ]
  },
  {
   "cell_type": "code",
   "execution_count": 84,
   "id": "0b8c6687",
   "metadata": {},
   "outputs": [
    {
     "data": {
      "text/html": [
       "<div>\n",
       "<style scoped>\n",
       "    .dataframe tbody tr th:only-of-type {\n",
       "        vertical-align: middle;\n",
       "    }\n",
       "\n",
       "    .dataframe tbody tr th {\n",
       "        vertical-align: top;\n",
       "    }\n",
       "\n",
       "    .dataframe thead th {\n",
       "        text-align: right;\n",
       "    }\n",
       "</style>\n",
       "<table border=\"1\" class=\"dataframe\">\n",
       "  <thead>\n",
       "    <tr style=\"text-align: right;\">\n",
       "      <th></th>\n",
       "      <th>transcription</th>\n",
       "      <th>medical_specialty</th>\n",
       "      <th>pred</th>\n",
       "    </tr>\n",
       "  </thead>\n",
       "  <tbody>\n",
       "    <tr>\n",
       "      <th>0</th>\n",
       "      <td>OPERATIVE NOTE:  ,The patient was taken to the...</td>\n",
       "      <td>Urology</td>\n",
       "      <td>0.998361</td>\n",
       "    </tr>\n",
       "    <tr>\n",
       "      <th>5</th>\n",
       "      <td>CLINICAL HISTORY: ,This 78-year-old black woma...</td>\n",
       "      <td>Cardiovascular / Pulmonary</td>\n",
       "      <td>0.994339</td>\n",
       "    </tr>\n",
       "    <tr>\n",
       "      <th>7</th>\n",
       "      <td>PREOPERATIVE DIAGNOSIS: , Penoscrotal abscess....</td>\n",
       "      <td>Surgery</td>\n",
       "      <td>0.989826</td>\n",
       "    </tr>\n",
       "    <tr>\n",
       "      <th>9</th>\n",
       "      <td>PREOPERATIVE DIAGNOSIS: , Ruptured distal bice...</td>\n",
       "      <td>Surgery</td>\n",
       "      <td>0.996335</td>\n",
       "    </tr>\n",
       "    <tr>\n",
       "      <th>15</th>\n",
       "      <td>PROCEDURES: , Total knee replacement.,PROCEDUR...</td>\n",
       "      <td>Surgery</td>\n",
       "      <td>0.974215</td>\n",
       "    </tr>\n",
       "    <tr>\n",
       "      <th>...</th>\n",
       "      <td>...</td>\n",
       "      <td>...</td>\n",
       "      <td>...</td>\n",
       "    </tr>\n",
       "    <tr>\n",
       "      <th>4978</th>\n",
       "      <td>PREOPERATIVE DIAGNOSIS: , Left carpal tunnel s...</td>\n",
       "      <td>Surgery</td>\n",
       "      <td>0.996338</td>\n",
       "    </tr>\n",
       "    <tr>\n",
       "      <th>4985</th>\n",
       "      <td>PREOPERATIVE DIAGNOSES,1.  Basal cell carcinom...</td>\n",
       "      <td>Surgery</td>\n",
       "      <td>0.999908</td>\n",
       "    </tr>\n",
       "    <tr>\n",
       "      <th>4986</th>\n",
       "      <td>NORMAL CATARACT SURGERY,PROCEDURE DETAILS: , T...</td>\n",
       "      <td>Ophthalmology</td>\n",
       "      <td>0.999148</td>\n",
       "    </tr>\n",
       "    <tr>\n",
       "      <th>4995</th>\n",
       "      <td>HISTORY: , The patient is a 5-1/2-year-old, wh...</td>\n",
       "      <td>Surgery</td>\n",
       "      <td>0.922016</td>\n",
       "    </tr>\n",
       "    <tr>\n",
       "      <th>4997</th>\n",
       "      <td>PREOPERATIVE DIAGNOSES: , Bilateral cleft lip ...</td>\n",
       "      <td>ENT - Otolaryngology</td>\n",
       "      <td>0.999991</td>\n",
       "    </tr>\n",
       "  </tbody>\n",
       "</table>\n",
       "<p>1566 rows × 3 columns</p>\n",
       "</div>"
      ],
      "text/plain": [
       "                                          transcription  \\\n",
       "0     OPERATIVE NOTE:  ,The patient was taken to the...   \n",
       "5     CLINICAL HISTORY: ,This 78-year-old black woma...   \n",
       "7     PREOPERATIVE DIAGNOSIS: , Penoscrotal abscess....   \n",
       "9     PREOPERATIVE DIAGNOSIS: , Ruptured distal bice...   \n",
       "15    PROCEDURES: , Total knee replacement.,PROCEDUR...   \n",
       "...                                                 ...   \n",
       "4978  PREOPERATIVE DIAGNOSIS: , Left carpal tunnel s...   \n",
       "4985  PREOPERATIVE DIAGNOSES,1.  Basal cell carcinom...   \n",
       "4986  NORMAL CATARACT SURGERY,PROCEDURE DETAILS: , T...   \n",
       "4995  HISTORY: , The patient is a 5-1/2-year-old, wh...   \n",
       "4997  PREOPERATIVE DIAGNOSES: , Bilateral cleft lip ...   \n",
       "\n",
       "                medical_specialty      pred  \n",
       "0                         Urology  0.998361  \n",
       "5      Cardiovascular / Pulmonary  0.994339  \n",
       "7                         Surgery  0.989826  \n",
       "9                         Surgery  0.996335  \n",
       "15                        Surgery  0.974215  \n",
       "...                           ...       ...  \n",
       "4978                      Surgery  0.996338  \n",
       "4985                      Surgery  0.999908  \n",
       "4986                Ophthalmology  0.999148  \n",
       "4995                      Surgery  0.922016  \n",
       "4997         ENT - Otolaryngology  0.999991  \n",
       "\n",
       "[1566 rows x 3 columns]"
      ]
     },
     "execution_count": 84,
     "metadata": {},
     "output_type": "execute_result"
    }
   ],
   "source": [
    "df1[['transcription','medical_specialty', 'pred']].loc[df1['pred']> 0.9]"
   ]
  },
  {
   "cell_type": "markdown",
   "id": "d81eef9e",
   "metadata": {},
   "source": [
    " **Note: we blindly trusted the Medical_specialty column as our ground truth, but as we can see it's anything but. There are cases where the Medical_specialty likely should've included Surgery but did not.**"
   ]
  },
  {
   "cell_type": "code",
   "execution_count": null,
   "id": "ec9a2e90",
   "metadata": {},
   "outputs": [],
   "source": []
  }
 ],
 "metadata": {
  "kernelspec": {
   "display_name": "Python 3 (ipykernel)",
   "language": "python",
   "name": "python3"
  },
  "language_info": {
   "codemirror_mode": {
    "name": "ipython",
    "version": 3
   },
   "file_extension": ".py",
   "mimetype": "text/x-python",
   "name": "python",
   "nbconvert_exporter": "python",
   "pygments_lexer": "ipython3",
   "version": "3.8.12"
  },
  "varInspector": {
   "cols": {
    "lenName": 16,
    "lenType": 16,
    "lenVar": 40
   },
   "kernels_config": {
    "python": {
     "delete_cmd_postfix": "",
     "delete_cmd_prefix": "del ",
     "library": "var_list.py",
     "varRefreshCmd": "print(var_dic_list())"
    },
    "r": {
     "delete_cmd_postfix": ") ",
     "delete_cmd_prefix": "rm(",
     "library": "var_list.r",
     "varRefreshCmd": "cat(var_dic_list()) "
    }
   },
   "types_to_exclude": [
    "module",
    "function",
    "builtin_function_or_method",
    "instance",
    "_Feature"
   ],
   "window_display": false
  }
 },
 "nbformat": 4,
 "nbformat_minor": 5
}
